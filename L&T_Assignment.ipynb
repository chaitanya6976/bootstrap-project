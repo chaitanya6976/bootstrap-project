{
  "nbformat": 4,
  "nbformat_minor": 0,
  "metadata": {
    "colab": {
      "provenance": [],
      "authorship_tag": "ABX9TyMvlGe2WZrRzEOjojjKtAik",
      "include_colab_link": true
    },
    "kernelspec": {
      "name": "python3",
      "display_name": "Python 3"
    },
    "language_info": {
      "name": "python"
    }
  },
  "cells": [
    {
      "cell_type": "markdown",
      "metadata": {
        "id": "view-in-github",
        "colab_type": "text"
      },
      "source": [
        "<a href=\"https://colab.research.google.com/github/chaitanya6976/bootstrap-project/blob/main/L%26T_Assignment.ipynb\" target=\"_parent\"><img src=\"https://colab.research.google.com/assets/colab-badge.svg\" alt=\"Open In Colab\"/></a>"
      ]
    },
    {
      "cell_type": "code",
      "execution_count": 1,
      "metadata": {
        "colab": {
          "base_uri": "https://localhost:8080/"
        },
        "id": "caD3yErDeGDt",
        "outputId": "1e30517f-adc9-4bb0-af2a-ce011a250beb"
      },
      "outputs": [
        {
          "output_type": "stream",
          "name": "stdout",
          "text": [
            "David Thompson\n",
            "{'A100': ['bananas', 'milk', 'bread'], 'A101': ['pens', 'pencils', 'paper'], 'A103': ['plates', 'glasses', 'table_cloth']}\n"
          ]
        }
      ],
      "source": [
        "# Given dictionaries\n",
        "dict_aisle = {\n",
        "    \"A100\": ['bananas', 'milk', 'bread'],\n",
        "    \"A101\": ['pens', 'pencils', 'paper'],\n",
        "    \"A102\": ['canned_peas', 'canned_carrots', 'canned_beans'],\n",
        "    \"A103\": ['plates', 'glasses', 'table_cloth']\n",
        "}\n",
        "\n",
        "dict_employee_IDs = {\n",
        "    \"ID01\": 'John Papa',\n",
        "    \"ID02\": 'David Thompson',\n",
        "    \"ID03\": 'Terry Gao',\n",
        "    \"ID04\": 'Barry Tex'\n",
        "}\n",
        "\n",
        "# a. Print the name of the ID \"ID02\" from the dictionary dict_employee_IDs\n",
        "print(dict_employee_IDs[\"ID02\"])\n",
        "\n",
        "# b. Delete aisle \"A102\" from the dictionary dict_aisle\n",
        "if \"A102\" in dict_aisle:\n",
        "    del dict_aisle[\"A102\"]\n",
        "\n",
        "# Print dict_aisle after deletion\n",
        "print(dict_aisle)\n"
      ]
    },
    {
      "cell_type": "markdown",
      "source": [
        "Problem 2"
      ],
      "metadata": {
        "id": "_H1_iW9peYB6"
      }
    },
    {
      "cell_type": "code",
      "source": [
        "# Given initial dictionary\n",
        "dict_aisle = {\n",
        "    \"A100\": ['bananas', 'milk', 'bread'],\n",
        "    \"A101\": ['pens', 'pencils', 'paper'],\n",
        "    \"A102\": ['canned peas', 'canned carrots', 'canned beans'],\n",
        "    \"A103\": ['plates', 'glasses', 'table cloth']\n",
        "}\n",
        "\n",
        "# a. Prompt the user to enter the name of the item\n",
        "item_name = input(\"Enter the name of the item: \")\n",
        "\n",
        "# Check if the item is found in any aisle\n",
        "item_found = False\n",
        "for aisle, items in dict_aisle.items():\n",
        "    if item_name.lower() in [item.lower() for item in items]:\n",
        "        print(f\"The item '{item_name}' is found in aisle {aisle}\")\n",
        "        item_found = True\n",
        "        break\n",
        "\n",
        "if not item_found:\n",
        "    print(\"Item Not Found!!\")\n",
        "\n",
        "# b. Add a new aisle B101 to dict_aisle\n",
        "new_aisle = \"B101\"\n",
        "new_items = ['Kids toys', 'Kids clothes']\n",
        "dict_aisle[new_aisle] = new_items\n",
        "\n",
        "# c. Print dict_aisle as specified\n",
        "print(\"Updated dict_aisle:\")\n",
        "for aisle, items in dict_aisle.items():\n",
        "    print(f\"{aisle} : {items}\")\n"
      ],
      "metadata": {
        "colab": {
          "base_uri": "https://localhost:8080/"
        },
        "id": "8i3gK1_Ieq0c",
        "outputId": "42f3d048-0cdc-4532-fb67-7e87107b5c45"
      },
      "execution_count": 3,
      "outputs": [
        {
          "output_type": "stream",
          "name": "stdout",
          "text": [
            "Enter the name of the item: A100\n",
            "Item Not Found!!\n",
            "Updated dict_aisle:\n",
            "A100 : ['bananas', 'milk', 'bread']\n",
            "A101 : ['pens', 'pencils', 'paper']\n",
            "A102 : ['canned peas', 'canned carrots', 'canned beans']\n",
            "A103 : ['plates', 'glasses', 'table cloth']\n",
            "B101 : ['Kids toys', 'Kids clothes']\n"
          ]
        }
      ]
    },
    {
      "cell_type": "markdown",
      "source": [
        "Problem 3"
      ],
      "metadata": {
        "id": "1GhtbYvOe64X"
      }
    },
    {
      "cell_type": "code",
      "source": [
        "# Given inventory dictionary\n",
        "inventory = {\n",
        "    \"banana\": 0.25,\n",
        "    \"watermelon\": 5.25,\n",
        "    \"orange\": 0.50,\n",
        "    \"pear\": 0.40,\n",
        "    \"apple\": 0.30,\n",
        "    \"kiwi\": 0.75,\n",
        "}\n",
        "\n",
        "# Prompt the user to enter the quantity of each fruit\n",
        "total_cost = 0.0\n",
        "\n",
        "for fruit, price in inventory.items():\n",
        "    quantity = int(input(f\"Enter the quantity of {fruit}s: \"))\n",
        "    total_cost += quantity * price\n",
        "\n",
        "# Display the total cost of the purchase\n",
        "print(f\"The total cost of your purchase is: ${total_cost:.2f}\")\n"
      ],
      "metadata": {
        "colab": {
          "base_uri": "https://localhost:8080/"
        },
        "id": "LiK0nT7fe9L-",
        "outputId": "b70384b0-e588-4c10-9bce-2b133c9f0dba"
      },
      "execution_count": 4,
      "outputs": [
        {
          "output_type": "stream",
          "name": "stdout",
          "text": [
            "Enter the quantity of bananas: 2\n",
            "Enter the quantity of watermelons: 3\n",
            "Enter the quantity of oranges: 4\n",
            "Enter the quantity of pears: 5\n",
            "Enter the quantity of apples: 6\n",
            "Enter the quantity of kiwis: 7\n",
            "The total cost of your purchase is: $27.30\n"
          ]
        }
      ]
    },
    {
      "cell_type": "markdown",
      "source": [
        "2 question"
      ],
      "metadata": {
        "id": "mIeLBL9AfsVR"
      }
    },
    {
      "cell_type": "code",
      "source": [
        "def parse_time(time_str):\n",
        "    # Split the time string into hours, minutes, seconds\n",
        "    h, m, s = map(int, time_str.split('|'))\n",
        "    # Convert to total seconds\n",
        "    total_seconds = h * 3600 + m * 60 + s\n",
        "    return total_seconds\n",
        "\n",
        "def format_time(total_seconds):\n",
        "    # Convert total seconds back to h|m|s format\n",
        "    h = total_seconds // 3600\n",
        "    m = (total_seconds % 3600) // 60\n",
        "    s = total_seconds % 60\n",
        "    return f\"{h:02}|{m:02}|{s:02}\"\n",
        "\n",
        "def caa_stats(race_results):\n",
        "    if not race_results:\n",
        "        return \"\"\n",
        "\n",
        "    # Step 1: Parse the input string into individual race times\n",
        "    times = race_results.split(', ')\n",
        "\n",
        "    # Step 2: Convert each time to total seconds\n",
        "    race_times = [parse_time(time_str) for time_str in times]\n",
        "\n",
        "    # Step 3: Calculate Range\n",
        "    min_time = min(race_times)\n",
        "    max_time = max(race_times)\n",
        "    range_seconds = max_time - min_time\n",
        "    range_str = format_time(range_seconds)\n",
        "\n",
        "    # Step 4: Calculate Average\n",
        "    average_seconds = sum(race_times) / len(race_times)\n",
        "    average_str = format_time(int(average_seconds))\n",
        "\n",
        "    # Step 5: Calculate Median\n",
        "    sorted_times = sorted(race_times)\n",
        "    n = len(sorted_times)\n",
        "    if n % 2 == 1:\n",
        "        median_seconds = sorted_times[n // 2]\n",
        "    else:\n",
        "        median_seconds = (sorted_times[n // 2 - 1] + sorted_times[n // 2]) / 2\n",
        "\n",
        "    median_str = format_time(int(median_seconds))\n",
        "\n",
        "    # Step 6: Construct the result string\n",
        "    result = f\"Range: {range_str} Average: {average_str} Median: {median_str}\"\n",
        "\n",
        "    return result\n",
        "\n",
        "# Example usage:\n",
        "race_results = \"01|15|59, 1|47|6, 01|17|20, 1|32|34, 2|3|17\"\n",
        "result = caa_stats(race_results)\n",
        "print(result)  # Output: \"Range: 00|47|18 Average: 01|35|15 Median: 01|32|34\"\n"
      ],
      "metadata": {
        "colab": {
          "base_uri": "https://localhost:8080/"
        },
        "id": "f_bDmQExfvVb",
        "outputId": "5e0cc3ac-a8a5-4b52-f78c-7122aee9e334"
      },
      "execution_count": 5,
      "outputs": [
        {
          "output_type": "stream",
          "name": "stdout",
          "text": [
            "Range: 00|47|18 Average: 01|35|15 Median: 01|32|34\n"
          ]
        }
      ]
    },
    {
      "cell_type": "markdown",
      "source": [
        "Question 3"
      ],
      "metadata": {
        "id": "mRRj5WnmgIcQ"
      }
    },
    {
      "cell_type": "code",
      "source": [
        "def deviation_from_average(data):\n",
        "    if not data:\n",
        "        return []\n",
        "\n",
        "    # Step 1: Calculate the average\n",
        "    average = sum(data) / len(data)\n",
        "\n",
        "    # Step 2: Compute deviation from the average and round to two decimal places\n",
        "    deviations = [(num - average) for num in data]\n",
        "    deviations_rounded = [round(dev, 2) for dev in deviations]\n",
        "\n",
        "    return deviations_rounded\n",
        "\n",
        "# Example usage:\n",
        "daily_contacts = [55, 95, 62, 36, 48]\n",
        "result = deviation_from_average(daily_contacts)\n",
        "print(result)  # Output: [4.2, -35.8, -2.8, 23.2, 11.2]\n"
      ],
      "metadata": {
        "colab": {
          "base_uri": "https://localhost:8080/"
        },
        "id": "42Ubh-ROgY_5",
        "outputId": "54c02a43-9d7f-4e34-a11f-6b58dfac40ee"
      },
      "execution_count": 8,
      "outputs": [
        {
          "output_type": "stream",
          "name": "stdout",
          "text": [
            "[-4.2, 35.8, 2.8, -23.2, -11.2]\n"
          ]
        }
      ]
    }
  ]
}