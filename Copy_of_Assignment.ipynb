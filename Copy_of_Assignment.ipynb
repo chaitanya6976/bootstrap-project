{
  "nbformat": 4,
  "nbformat_minor": 0,
  "metadata": {
    "colab": {
      "provenance": [],
      "include_colab_link": true
    },
    "kernelspec": {
      "name": "python3",
      "display_name": "Python 3"
    },
    "language_info": {
      "name": "python"
    }
  },
  "cells": [
    {
      "cell_type": "markdown",
      "metadata": {
        "id": "view-in-github",
        "colab_type": "text"
      },
      "source": [
        "<a href=\"https://colab.research.google.com/github/chaitanya6976/bootstrap-project/blob/main/Copy_of_Assignment.ipynb\" target=\"_parent\"><img src=\"https://colab.research.google.com/assets/colab-badge.svg\" alt=\"Open In Colab\"/></a>"
      ]
    },
    {
      "cell_type": "markdown",
      "source": [
        "Problem:1\n",
        "Use the following dictionary objects for this assignment:\n",
        "dict_aisle = {\n",
        " \"A100\": ['bananas', 'milk', 'bread'],\n",
        " \"A101\": ['pens', 'pencils', 'paper'],\n",
        " \"A102\": ['canned_peas', 'canned_carrots', 'canned_beans'],\n",
        " \"A103\": ['plates', 'glasses', 'table_cloth']\n",
        " }\n",
        "dict_employee_IDs = {\"ID01\": 'John Papa',\n",
        " \"ID02\": 'David Thompson',\n",
        " \"ID03\": 'Terry Gao',\n",
        " \"ID04\": 'Barry Tex'}\n",
        "Perform the following Operation on given dictionary data:\n",
        "a.Print the name of the ID \"ID02\" from the dictionary dict_employee_IDs\n",
        "b.Delete aisle \"A102\" from the dictionary dict_aisle"
      ],
      "metadata": {
        "id": "KpE4idgEE4po"
      }
    },
    {
      "cell_type": "code",
      "execution_count": null,
      "metadata": {
        "colab": {
          "base_uri": "https://localhost:8080/"
        },
        "id": "es1GSEjtCVr5",
        "outputId": "cdf3fcfe-539a-4c9f-e5a4-2bef63ebf804"
      },
      "outputs": [
        {
          "output_type": "stream",
          "name": "stdout",
          "text": [
            "Name associated with ID 'ID02': David Thompson\n",
            "\n",
            "Updated dict_aisle after deleting 'A102':\n",
            "{'A100': ['bananas', 'milk', 'bread'], 'A101': ['pens', 'pencils', 'paper'], 'A103': ['plates', 'glasses', 'table_cloth']}\n"
          ]
        }
      ],
      "source": [
        "# Given dictionaries\n",
        "dict_aisle = {\n",
        "    \"A100\": ['bananas', 'milk', 'bread'],\n",
        "    \"A101\": ['pens', 'pencils', 'paper'],\n",
        "    \"A102\": ['canned_peas', 'canned_carrots', 'canned_beans'],\n",
        "    \"A103\": ['plates', 'glasses', 'table_cloth']\n",
        "}\n",
        "\n",
        "dict_employee_IDs = {\n",
        "    \"ID01\": 'John Papa',\n",
        "    \"ID02\": 'David Thompson',\n",
        "    \"ID03\": 'Terry Gao',\n",
        "    \"ID04\": 'Barry Tex'\n",
        "}\n",
        "\n",
        "# Part a: Print the name associated with ID \"ID02\"\n",
        "print(\"Name associated with ID 'ID02':\", dict_employee_IDs[\"ID02\"])\n",
        "\n",
        "# Part b: Delete aisle \"A102\" from dict_aisle\n",
        "del dict_aisle[\"A102\"]\n",
        "print(\"\\nUpdated dict_aisle after deleting 'A102':\")\n",
        "print(dict_aisle)\n"
      ]
    },
    {
      "cell_type": "markdown",
      "source": [
        "Problem 2:\n",
        "Use the following dictionary objects for this assignment:\n",
        "dict_aisle = { \"A100\": ['bananas', 'milk', 'bread'],\n",
        " \"A101\": ['pens', 'pencils', 'paper'],\n",
        " \"A102\": ['canned_peas', 'canned_carrots', 'canned_beans'],\n",
        " \"A103\": ['plates', 'glasses', 'table_cloth']\n",
        " }\n",
        "Perform the following Operation on given dictionary data:\n",
        "a.Prompt the user to enter the name of the item:\n",
        " a.If found, display the aisle number of the item.\n",
        " b.if not found, display a message \"Item Not Found!!\"\n",
        "b.Add the following aisle to the dict_aisle:\n",
        " a.Aisle No: B101\n",
        " b.Items on aisle: kids toys, kids clothes\n",
        "c. Print the dict_aisle as below:\n",
        "A100 : ['bananas', 'milk', 'bread']\n",
        "A101 : ['pens', 'pencils', 'paper']\n",
        "A102 : ['canned peas', 'canned carrots', 'canned beans']\n",
        "A103 : ['plates', 'glasses', 'table cloth']\n",
        "B101 : ['Kids toys', 'Kids cloths']"
      ],
      "metadata": {
        "id": "gNQxtRISFNkq"
      }
    },
    {
      "cell_type": "code",
      "source": [
        "# Given dictionary\n",
        "dict_aisle = {\n",
        "    \"A100\": ['bananas', 'milk', 'bread'],\n",
        "    \"A101\": ['pens', 'pencils', 'paper'],\n",
        "    \"A102\": ['canned_peas', 'canned_carrots', 'canned_beans'],\n",
        "    \"A103\": ['plates', 'glasses', 'table_cloth']\n",
        "}\n",
        "\n",
        "# Part a: Prompt user to enter the name of the item and display the aisle number if found\n",
        "item_name = input(\"Enter the name of the item: \")\n",
        "\n",
        "found = False\n",
        "for aisle, items in dict_aisle.items():\n",
        "    if item_name in items:\n",
        "        print(f\"The item '{item_name}' is found in aisle {aisle}.\")\n",
        "        found = True\n",
        "        break\n",
        "\n",
        "if not found:\n",
        "    print(\"Item Not Found!!\")\n",
        "\n",
        "# Part b: Add new aisle B101 to dict_aisle\n",
        "new_aisle_no = \"B101\"\n",
        "new_items = ['Kids toys', 'Kids clothes']\n",
        "dict_aisle[new_aisle_no] = new_items\n",
        "\n",
        "# Part c: Print dict_aisle as specified\n",
        "print(\"\\nUpdated dict_aisle:\")\n",
        "for aisle, items in dict_aisle.items():\n",
        "    print(f\"{aisle} : {items}\")\n",
        "0"
      ],
      "metadata": {
        "colab": {
          "base_uri": "https://localhost:8080/"
        },
        "id": "XZdYCZMjFMba",
        "outputId": "c27a86a2-543b-4206-cf9a-20e3f5cd7076"
      },
      "execution_count": null,
      "outputs": [
        {
          "output_type": "stream",
          "name": "stdout",
          "text": [
            "Enter the name of the item: pens\n",
            "The item 'pens' is found in aisle A101.\n",
            "\n",
            "Updated dict_aisle:\n",
            "A100 : ['bananas', 'milk', 'bread']\n",
            "A101 : ['pens', 'pencils', 'paper']\n",
            "A102 : ['canned_peas', 'canned_carrots', 'canned_beans']\n",
            "A103 : ['plates', 'glasses', 'table_cloth']\n",
            "B101 : ['Kids toys', 'Kids clothes']\n"
          ]
        }
      ]
    },
    {
      "cell_type": "markdown",
      "source": [
        "Problem 3:\n",
        "Use the following dictionary objects for this assignment:\n",
        "# Fruit : price\n",
        "inventory = { \"banana\": 0.25,\n",
        " \"watermelon\": 5.25,\n",
        " \"orange\": 0.50,\n",
        " \"peer\": 0.40,\n",
        " \"apple\": 0.30,\n",
        " \"kiwi\": 0.75,\n",
        " }\n",
        "Perform the following Operation on given dictionary data:\n",
        "a.Prompt the user to enter the quantity of each fruit and display the total cost of the purchase"
      ],
      "metadata": {
        "id": "Wjl8U9d2F-yV"
      }
    },
    {
      "cell_type": "markdown",
      "source": [
        "# New Section"
      ],
      "metadata": {
        "id": "r2B2XlGLCZIs"
      }
    },
    {
      "cell_type": "code",
      "source": [
        "# Given inventory dictionary\n",
        "inventory = {\n",
        "    \"banana\": 0.25,\n",
        "    \"watermelon\": 5.25,\n",
        "    \"orange\": 0.50,\n",
        "    \"pear\": 0.40,\n",
        "    \"apple\": 0.30,\n",
        "    \"kiwi\": 0.75,\n",
        "}\n",
        "\n",
        "# Initialize total cost\n",
        "total_cost = 0.0\n",
        "\n",
        "# Prompt user for quantities of each fruit\n",
        "print(\"Enter the quantity of each fruit (enter 0 if not buying):\")\n",
        "for fruit, price in inventory.items():\n",
        "    quantity = int(input(f\"{fruit.capitalize()}: \"))\n",
        "    total_cost += quantity * price\n",
        "\n",
        "# Display total cost of purchase\n",
        "print(f\"\\nTotal cost of your purchase is: ${total_cost:.2f}\")\n"
      ],
      "metadata": {
        "colab": {
          "base_uri": "https://localhost:8080/"
        },
        "id": "aPck_7IyGGFa",
        "outputId": "5e5c9e34-9bd1-4b2c-90be-da08d31b05f9"
      },
      "execution_count": null,
      "outputs": [
        {
          "output_type": "stream",
          "name": "stdout",
          "text": [
            "Enter the quantity of each fruit (enter 0 if not buying):\n",
            "Banana: 5\n",
            "Watermelon: 4\n",
            "Orange: 5\n",
            "Pear: 6\n",
            "Apple: 5\n",
            "Kiwi: 5\n",
            "\n",
            "Total cost of your purchase is: $32.40\n"
          ]
        }
      ]
    },
    {
      "cell_type": "markdown",
      "source": [
        "2. Statistics for an Athletic Association (Python / R)\n",
        "You are the \"computer expert\" of a local Athletic Association (C.A.A.). Many teams of runners come\n",
        "to compete. Each time you get a string of all race results of every team who has run. For example\n",
        "here is a string showing the individual results of a team of 5 runners:\n",
        "\"01|15|59, 1|47|6, 01|17|20, 1|32|34, 2|3|17\"\n",
        "Each part of the string is of the form: h|m|s where h, m, s (h for hour, m for minutes, s for seconds)\n",
        "are positive or null integer (represented as strings) with one or two digits. Substrings in the input\n",
        "string are separated by , or ,.\n",
        "To compare the results of the teams you are asked for giving three statistics; range, average and\n",
        "median.\n",
        "Range : difference between the lowest and highest values. In {4, 6, 9, 3, 7} the lowest value is 3, and\n",
        "the highest is 9, so the range is 9 − 3 = 6.\n",
        "Mean or Average : To calculate mean, add together all of the numbers and then divide the sum by\n",
        "the total count of numbers.\n",
        "Median : In statistics, the median is the number separating the higher half of a data sample from the\n",
        "lower half. The median of a finite list of numbers can be found by arranging all the observations from\n",
        "lowest value to highest value and picking the middle one (e.g., the median of {3, 3, 5, 9, 11} is 5)\n",
        "when there is an odd number of observations. If there is an even number of observations, then there\n",
        "is no single middle value; the median is then defined to be the mean of the two middle values (the\n",
        "median of {3, 5, 6, 9} is (5 + 6) / 2 = 5.5).\n",
        "Your task is to return a string giving these 3 values. For the example given above, the string result\n",
        "will be \"Range: 00|47|18 Average: 01|35|15 Median: 01|32|34\"\n",
        "of the form: \"Range: hh|mm|ss Average: hh|mm|ss Median: hh|mm|ss\"`\n",
        "where hh, mm, ss are integers (represented by strings) with each 2 digits.\n",
        "Remarks:\n",
        "if a result in seconds is ab.xy... it will be given truncated as ab.\n",
        "if the given string is \"\" you will return \"\"\n",
        "\n"
      ],
      "metadata": {
        "id": "CDQWlaJQGg8R"
      }
    },
    {
      "cell_type": "code",
      "source": [
        "def parse_race_results(results):\n",
        "    if not results:\n",
        "        return \"\"\n",
        "\n",
        "    # Split the results string by commas\n",
        "    race_times = results.split(\", \")\n",
        "\n",
        "    # Convert each race time to total seconds\n",
        "    times_in_seconds = []\n",
        "    for time_str in race_times:\n",
        "        h, m, s = map(int, time_str.split('|'))\n",
        "        total_seconds = h * 3600 + m * 60 + s\n",
        "        times_in_seconds.append(total_seconds)\n",
        "\n",
        "    # Calculate range\n",
        "    range_time = max(times_in_seconds) - min(times_in_seconds)\n",
        "\n",
        "    # Calculate average\n",
        "    total_sum = sum(times_in_seconds)\n",
        "    average_time_seconds = total_sum / len(times_in_seconds)\n",
        "    average_time_h = int(average_time_seconds // 3600)\n",
        "    average_time_m = int((average_time_seconds % 3600) // 60)\n",
        "    average_time_s = int(average_time_seconds % 60)\n",
        "    average_time_str = f\"{average_time_h:02}|{average_time_m:02}|{average_time_s:02}\"\n",
        "\n",
        "    # Calculate median\n",
        "    sorted_times = sorted(times_in_seconds)\n",
        "    n = len(sorted_times)\n",
        "    if n % 2 == 1:\n",
        "        median_time_seconds = sorted_times[n // 2]\n",
        "    else:\n",
        "        median_time_seconds = (sorted_times[n // 2 - 1] + sorted_times[n // 2]) / 2\n",
        "\n",
        "    median_time_h = int(median_time_seconds // 3600)\n",
        "    median_time_m = int((median_time_seconds % 3600) // 60)\n",
        "    median_time_s = int(median_time_seconds % 60)\n",
        "    median_time_str = f\"{median_time_h:02}|{median_time_m:02}|{median_time_s:02}\"\n",
        "\n",
        "    # Format the output string\n",
        "    result = f\"Range: {format_time(range_time)} Average: {average_time_str} Median: {median_time_str}\"\n",
        "\n",
        "    return result\n",
        "\n",
        "def format_time(seconds):\n",
        "    hours = seconds // 3600\n",
        "    minutes = (seconds % 3600) // 60\n",
        "    secs = seconds % 60\n",
        "    return f\"{hours:02}|{minutes:02}|{secs:02}\"\n",
        "\n",
        "# Prompt user for input\n",
        "input_str = input(\"Enter the race results separated by commas (e.g., 01|15|59, 1|47|6, 01|17|20): \")\n",
        "output = parse_race_results(input_str)\n",
        "print(\"Input:\", input_str)\n",
        "print(\"Output:\", output)\n"
      ],
      "metadata": {
        "colab": {
          "base_uri": "https://localhost:8080/"
        },
        "id": "qTOeCLjKGnxD",
        "outputId": "e8e79935-0ee6-413f-c004-995c0648ee8c"
      },
      "execution_count": null,
      "outputs": [
        {
          "output_type": "stream",
          "name": "stdout",
          "text": [
            "Enter the race results separated by commas (e.g., 01|15|59, 1|47|6, 01|17|20): 01|15|59, 1|47|6, 01|17|20, 1|32|34, 2|3|17\n",
            "Input: 01|15|59, 1|47|6, 01|17|20, 1|32|34, 2|3|17\n",
            "Output: Range: 00|47|18 Average: 01|35|15 Median: 01|32|34\n"
          ]
        }
      ]
    },
    {
      "cell_type": "markdown",
      "source": [
        "3. Deviation from the Average (Python / R)\n",
        "In this assessment, you are given a list or array of data representing daily business contacts collected\n",
        "over a week. Your task is to calculate how much each value differs from the average and create a\n",
        "new list/array of these differences, rounded to the second decimal digit.\n",
        "For example, if the daily contacts are [55, 95, 62, 36, 48], you need to calculate the average (59.2)\n",
        "and determine the deviation from the average for each day. The resulting list/array of differences\n",
        "would be [4.20, -35.80, -2.80, 23.20, 11.20].\n",
        "Your function should handle valid inputs (i.e., arrays/lists with numbers) and round the differences\n",
        "to the second decimal digit. Aim for an efficient and concise implementation to solve this problem.\n",
        "Note: Ensure that your function accounts for potential rounding differences across programming\n",
        "languages, such as the lack of rounding requirement in Haskell.\n"
      ],
      "metadata": {
        "id": "am1bND6mH8_a"
      }
    },
    {
      "cell_type": "code",
      "source": [
        "def deviation_from_average(data):\n",
        "    if not data:\n",
        "        return []\n",
        "\n",
        "    # Calculate the average\n",
        "    average = sum(data) / len(data)\n",
        "\n",
        "    # Calculate deviations rounded to two decimal places\n",
        "    deviations = [(round(x - average, 2)) for x in data]\n",
        "\n",
        "    return deviations\n",
        "\n",
        "# Main function to run the program\n",
        "def main():\n",
        "    # Get user input for daily business contacts\n",
        "    try:\n",
        "        contacts_input = input(\"Enter daily business contacts separated by spaces : \").strip()\n",
        "        if contacts_input == \"\":\n",
        "            raise ValueError(\"No input entered.\")\n",
        "\n",
        "        # Convert input string to a list of floats\n",
        "        contacts = list(map(float, contacts_input.split()))\n",
        "\n",
        "        # Print the original contacts entered by the user\n",
        "        print(\"\\nOriginal Contacts:\", contacts)\n",
        "\n",
        "        # Calculate deviations from average\n",
        "        differences = deviation_from_average(contacts)\n",
        "\n",
        "        # Print deviations from average\n",
        "        print(\"Deviations from Average:\", differences)\n",
        "    except ValueError as e:\n",
        "        print(f\"Error: {e}. Please enter valid numbers separated by spaces.\")\n",
        "\n",
        "# Run the program\n",
        "if __name__ == \"__main__\":\n",
        "    main()\n"
      ],
      "metadata": {
        "colab": {
          "base_uri": "https://localhost:8080/"
        },
        "id": "ExIlpXEqH-LK",
        "outputId": "d3f0f5d6-ca12-4c88-a6b4-98a77d083f9a"
      },
      "execution_count": null,
      "outputs": [
        {
          "output_type": "stream",
          "name": "stdout",
          "text": [
            "Enter daily business contacts separated by spaces : 45 55 65 98 78\n",
            "\n",
            "Original Contacts: [45.0, 55.0, 65.0, 98.0, 78.0]\n",
            "Deviations from Average: [-23.2, -13.2, -3.2, 29.8, 9.8]\n"
          ]
        }
      ]
    }
  ]
}